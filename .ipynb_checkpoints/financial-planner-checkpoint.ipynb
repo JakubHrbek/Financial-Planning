{
 "cells": [
  {
   "cell_type": "code",
   "execution_count": 1,
   "metadata": {},
   "outputs": [],
   "source": [
    "# Initial imports\n",
    "import os\n",
    "import requests\n",
    "import json\n",
    "import pandas as pd\n",
    "from dotenv import load_dotenv\n",
    "import alpaca_trade_api as tradeapi\n",
    "from MCForecastTools import MCSimulation\n",
    "\n",
    "%matplotlib inline"
   ]
  },
  {
   "cell_type": "code",
   "execution_count": 2,
   "metadata": {},
   "outputs": [
    {
     "data": {
      "text/plain": [
       "True"
      ]
     },
     "execution_count": 2,
     "metadata": {},
     "output_type": "execute_result"
    }
   ],
   "source": [
    "# Load .env enviroment variables\n",
    "load_dotenv()"
   ]
  },
  {
   "cell_type": "markdown",
   "metadata": {},
   "source": [
    "## Personal Finance Planner"
   ]
  },
  {
   "cell_type": "markdown",
   "metadata": {},
   "source": [
    "### Collecting Crypto Prices Using the `requests` Library"
   ]
  },
  {
   "cell_type": "code",
   "execution_count": 3,
   "metadata": {},
   "outputs": [],
   "source": [
    "# Set current amount of crypto assets\n",
    "my_btc = 1.2\n",
    "my_eth = 5.3"
   ]
  },
  {
   "cell_type": "code",
   "execution_count": 4,
   "metadata": {},
   "outputs": [],
   "source": [
    "# Crypto API URLs\n",
    "btc_url = \"https://api.alternative.me/v2/ticker/Bitcoin/?convert=CAD\"\n",
    "eth_url = \"https://api.alternative.me/v2/ticker/Ethereum/?convert=CAD\"\n",
    "\n",
    "btc_url = btc_url + \"?format=json\"\n",
    "eth_url = eth_url + \"?format=json\""
   ]
  },
  {
   "cell_type": "code",
   "execution_count": 5,
   "metadata": {},
   "outputs": [],
   "source": [
    "# Fetch current BTC price\n",
    "btc_price = requests.get(btc_url)\n",
    "\n",
    "# Fetch current ETH price\n",
    "eth_price = requests.get(eth_url)"
   ]
  },
  {
   "cell_type": "code",
   "execution_count": 6,
   "metadata": {},
   "outputs": [],
   "source": [
    "# Extract response / Retrieve output for BTC & ETH in order to get names of rows\n",
    "btc_response = btc_price.content\n",
    "eth_response = eth_price.content\n",
    "\n",
    "# Convert output to JSON\n",
    "btc_data = btc_price.json()\n",
    "eth_data = eth_price.json()"
   ]
  },
  {
   "cell_type": "code",
   "execution_count": 7,
   "metadata": {},
   "outputs": [
    {
     "name": "stdout",
     "output_type": "stream",
     "text": [
      "The current value of your 1.2 BTC is $15328.94.\n",
      "The current value of your 5.3 ETH is $2087.56.\n"
     ]
    }
   ],
   "source": [
    "# Fetch prices of both BTC and ETH in order to compute total value of crypto portfolio\n",
    "btc_price = btc_data['data']['1']['quotes']['USD']['price']\n",
    "eth_price = eth_data['data']['1027']['quotes']['USD']['price']\n",
    "\n",
    "# Compute current value of my crypto\n",
    "total_btc_value = my_btc * btc_price\n",
    "total_eth_value = my_eth * eth_price\n",
    "\n",
    "# Print current crypto wallet balance\n",
    "print(f\"The current value of your {my_btc} BTC is ${total_btc_value:0.2f}.\")\n",
    "print(f\"The current value of your {my_eth} ETH is ${total_eth_value:0.2f}.\")"
   ]
  },
  {
   "cell_type": "markdown",
   "metadata": {},
   "source": [
    "### Collecting Investments Data Using Alpaca: `SPY` (stocks) and `AGG` (bonds)"
   ]
  },
  {
   "cell_type": "code",
   "execution_count": 8,
   "metadata": {},
   "outputs": [],
   "source": [
    "# Current amount of shares\n",
    "my_spy = 50\n",
    "my_agg = 200"
   ]
  },
  {
   "cell_type": "code",
   "execution_count": 9,
   "metadata": {},
   "outputs": [],
   "source": [
    "# Set Alpaca API key and secret key\n",
    "\n",
    "alpaca_api_key = os.getenv(\"ALPACA_API_KEY\")\n",
    "alpaca_secret_key = os.getenv(\"ALPACA_SECRET_KEY\")\n",
    "\n",
    "# Create the Alpaca API object\n",
    "api = tradeapi.REST(\n",
    "    alpaca_api_key,\n",
    "    alpaca_secret_key,\n",
    "    api_version=\"v2\"\n",
    ")"
   ]
  },
  {
   "cell_type": "code",
   "execution_count": 10,
   "metadata": {},
   "outputs": [
    {
     "data": {
      "text/html": [
       "<div>\n",
       "<style scoped>\n",
       "    .dataframe tbody tr th:only-of-type {\n",
       "        vertical-align: middle;\n",
       "    }\n",
       "\n",
       "    .dataframe tbody tr th {\n",
       "        vertical-align: top;\n",
       "    }\n",
       "\n",
       "    .dataframe thead tr th {\n",
       "        text-align: left;\n",
       "    }\n",
       "</style>\n",
       "<table border=\"1\" class=\"dataframe\">\n",
       "  <thead>\n",
       "    <tr>\n",
       "      <th></th>\n",
       "      <th colspan=\"5\" halign=\"left\">AGG</th>\n",
       "      <th colspan=\"5\" halign=\"left\">SPY</th>\n",
       "    </tr>\n",
       "    <tr>\n",
       "      <th></th>\n",
       "      <th>open</th>\n",
       "      <th>high</th>\n",
       "      <th>low</th>\n",
       "      <th>close</th>\n",
       "      <th>volume</th>\n",
       "      <th>open</th>\n",
       "      <th>high</th>\n",
       "      <th>low</th>\n",
       "      <th>close</th>\n",
       "      <th>volume</th>\n",
       "    </tr>\n",
       "  </thead>\n",
       "  <tbody>\n",
       "    <tr>\n",
       "      <th>2020-10-21 00:00:00-04:00</th>\n",
       "      <td>117.59</td>\n",
       "      <td>117.64</td>\n",
       "      <td>117.48</td>\n",
       "      <td>117.515</td>\n",
       "      <td>2910530</td>\n",
       "      <td>343.33</td>\n",
       "      <td>345.67</td>\n",
       "      <td>342.4</td>\n",
       "      <td>342.69</td>\n",
       "      <td>46745662</td>\n",
       "    </tr>\n",
       "  </tbody>\n",
       "</table>\n",
       "</div>"
      ],
      "text/plain": [
       "                              AGG                                       SPY  \\\n",
       "                             open    high     low    close   volume    open   \n",
       "2020-10-21 00:00:00-04:00  117.59  117.64  117.48  117.515  2910530  343.33   \n",
       "\n",
       "                                                            \n",
       "                             high    low   close    volume  \n",
       "2020-10-21 00:00:00-04:00  345.67  342.4  342.69  46745662  "
      ]
     },
     "execution_count": 10,
     "metadata": {},
     "output_type": "execute_result"
    }
   ],
   "source": [
    "# Format current date as ISO format\n",
    "today = pd.Timestamp(\"2020-10-21\", tz=\"America/New_York\").isoformat()\n",
    "\n",
    "# Set the tickers\n",
    "tickers = [\"AGG\", \"SPY\"]\n",
    "\n",
    "# Set timeframe to '1D' for Alpaca API\n",
    "timeframe = \"1D\"\n",
    "\n",
    "# Get current closing prices for SPY and AGG\n",
    "df_portfolio = api.get_barset(\n",
    "    tickers,\n",
    "    timeframe,\n",
    "    start = today,\n",
    "    end = today\n",
    ").df\n",
    "\n",
    "# Preview DataFrame\n",
    "df_portfolio.head()"
   ]
  },
  {
   "cell_type": "code",
   "execution_count": 11,
   "metadata": {},
   "outputs": [
    {
     "name": "stdout",
     "output_type": "stream",
     "text": [
      "Current AGG closing price: $117.515\n",
      "Current SPY closing price: $342.69\n"
     ]
    }
   ],
   "source": [
    "# Pick AGG and SPY close prices\n",
    "agg_close_price = df_portfolio[\"AGG\"][\"close\"].item()\n",
    "spy_close_price = df_portfolio[\"SPY\"][\"close\"].item()\n",
    "\n",
    "# Print AGG and SPY close prices\n",
    "print(f\"Current AGG closing price: ${agg_close_price}\")\n",
    "print(f\"Current SPY closing price: ${spy_close_price}\")"
   ]
  },
  {
   "cell_type": "code",
   "execution_count": 12,
   "metadata": {},
   "outputs": [
    {
     "name": "stdout",
     "output_type": "stream",
     "text": [
      "The current value of your 50 SPY shares is $17134.50.\n",
      "The current value of your 200 AGG shares is $23503.00.\n"
     ]
    }
   ],
   "source": [
    "# Compute the current value of shares\n",
    "my_spy_value = my_spy * spy_close_price\n",
    "my_agg_value = my_agg * agg_close_price\n",
    "\n",
    "# Print current value of shares\n",
    "print(f\"The current value of your {my_spy} SPY shares is ${my_spy_value:0.2f}.\")\n",
    "print(f\"The current value of your {my_agg} AGG shares is ${my_agg_value:0.2f}.\")"
   ]
  },
  {
   "cell_type": "markdown",
   "metadata": {},
   "source": [
    "### Savings Health Analysis"
   ]
  },
  {
   "cell_type": "code",
   "execution_count": 13,
   "metadata": {},
   "outputs": [
    {
     "data": {
      "text/html": [
       "<div>\n",
       "<style scoped>\n",
       "    .dataframe tbody tr th:only-of-type {\n",
       "        vertical-align: middle;\n",
       "    }\n",
       "\n",
       "    .dataframe tbody tr th {\n",
       "        vertical-align: top;\n",
       "    }\n",
       "\n",
       "    .dataframe thead th {\n",
       "        text-align: right;\n",
       "    }\n",
       "</style>\n",
       "<table border=\"1\" class=\"dataframe\">\n",
       "  <thead>\n",
       "    <tr style=\"text-align: right;\">\n",
       "      <th></th>\n",
       "      <th>Amount</th>\n",
       "    </tr>\n",
       "  </thead>\n",
       "  <tbody>\n",
       "    <tr>\n",
       "      <th>Crypto</th>\n",
       "      <td>17416.508</td>\n",
       "    </tr>\n",
       "    <tr>\n",
       "      <th>Shares</th>\n",
       "      <td>40637.500</td>\n",
       "    </tr>\n",
       "  </tbody>\n",
       "</table>\n",
       "</div>"
      ],
      "text/plain": [
       "           Amount\n",
       "Crypto  17416.508\n",
       "Shares  40637.500"
      ]
     },
     "metadata": {},
     "output_type": "display_data"
    }
   ],
   "source": [
    "# Set monthly household income\n",
    "monthly_income = 12000\n",
    "\n",
    "# Create savings DataFrame\n",
    "# First, create dictionary that holds the sum of BTC/ETH as well as SPY/AGG\n",
    "total_portfolio_dictionary = {'Amount': [total_btc_value+total_eth_value, my_spy_value+my_agg_value]}\n",
    "\n",
    "# Now, create savings DataFrame incorporating above variable\n",
    "df_savings = pd.DataFrame(total_portfolio_dictionary,index=['Crypto','Shares'])\n",
    "\n",
    "# Display savings DataFrame\n",
    "display(df_savings)"
   ]
  },
  {
   "cell_type": "code",
   "execution_count": 14,
   "metadata": {},
   "outputs": [
    {
     "data": {
      "text/plain": [
       "array([<matplotlib.axes._subplots.AxesSubplot object at 0x11451b3d0>],\n",
       "      dtype=object)"
      ]
     },
     "execution_count": 14,
     "metadata": {},
     "output_type": "execute_result"
    },
    {
     "data": {
      "image/png": "[encoded data removed]",
      "text/plain": [
       "<Figure size 432x288 with 1 Axes>"
      ]
     },
     "metadata": {},
     "output_type": "display_data"
    }
   ],
   "source": [
    "# Plot savings pie chart\n",
    "df_savings.plot(kind='pie', subplots=True)"
   ]
  },
  {
   "cell_type": "code",
   "execution_count": 15,
   "metadata": {},
   "outputs": [
    {
     "name": "stdout",
     "output_type": "stream",
     "text": [
      "Congratulations on having more than 3x your monthly income in your emergency fund.\n"
     ]
    }
   ],
   "source": [
    "# Set ideal emergency fund\n",
    "emergency_fund = monthly_income * 3\n",
    "\n",
    "# Calculate total amount of savings\n",
    "total_savings = df_savings.sum().item()\n",
    "\n",
    "# Validate saving health\n",
    "if total_savings > emergency_fund:\n",
    "    print(\"Congratulations on having more than 3x your monthly income in your emergency fund.\")\n",
    "elif total_savings == emergency_fund:\n",
    "    print(\"Congratulations on reaching your goal of 3x your monthly income in your emergency fund.\")\n",
    "else:\n",
    "    print(f'You are ${emergency_fund - total_savings} away from reaching your goal of 3x your monthly income in your emergency fund.')"
   ]
  },
  {
   "cell_type": "markdown",
   "metadata": {},
   "source": [
    "## Retirement Planning\n",
    "\n",
    "### Monte Carlo Simulation"
   ]
  },
  {
   "cell_type": "code",
   "execution_count": 16,
   "metadata": {},
   "outputs": [],
   "source": [
    "# Set start and end dates of five years back from today.\n",
    "# Sample results may vary from the solution based on the time frame chosen\n",
    "start_date = pd.Timestamp('2015-10-21', tz='America/New_York').isoformat()\n",
    "end_date = pd.Timestamp('2020-10-21', tz='America/New_York').isoformat()"
   ]
  },
  {
   "cell_type": "code",
   "execution_count": 17,
   "metadata": {},
   "outputs": [
    {
     "data": {
      "text/html": [
       "<div>\n",
       "<style scoped>\n",
       "    .dataframe tbody tr th:only-of-type {\n",
       "        vertical-align: middle;\n",
       "    }\n",
       "\n",
       "    .dataframe tbody tr th {\n",
       "        vertical-align: top;\n",
       "    }\n",
       "\n",
       "    .dataframe thead tr th {\n",
       "        text-align: left;\n",
       "    }\n",
       "</style>\n",
       "<table border=\"1\" class=\"dataframe\">\n",
       "  <thead>\n",
       "    <tr>\n",
       "      <th></th>\n",
       "      <th colspan=\"5\" halign=\"left\">AGG</th>\n",
       "      <th colspan=\"5\" halign=\"left\">SPY</th>\n",
       "    </tr>\n",
       "    <tr>\n",
       "      <th></th>\n",
       "      <th>open</th>\n",
       "      <th>high</th>\n",
       "      <th>low</th>\n",
       "      <th>close</th>\n",
       "      <th>volume</th>\n",
       "      <th>open</th>\n",
       "      <th>high</th>\n",
       "      <th>low</th>\n",
       "      <th>close</th>\n",
       "      <th>volume</th>\n",
       "    </tr>\n",
       "  </thead>\n",
       "  <tbody>\n",
       "    <tr>\n",
       "      <th>2015-10-21 00:00:00-04:00</th>\n",
       "      <td>109.73</td>\n",
       "      <td>109.95</td>\n",
       "      <td>109.73</td>\n",
       "      <td>109.89</td>\n",
       "      <td>1119723</td>\n",
       "      <td>203.61</td>\n",
       "      <td>203.79</td>\n",
       "      <td>201.65</td>\n",
       "      <td>201.82</td>\n",
       "      <td>83704739</td>\n",
       "    </tr>\n",
       "    <tr>\n",
       "      <th>2015-10-22 00:00:00-04:00</th>\n",
       "      <td>109.90</td>\n",
       "      <td>110.05</td>\n",
       "      <td>109.83</td>\n",
       "      <td>109.94</td>\n",
       "      <td>1817244</td>\n",
       "      <td>202.98</td>\n",
       "      <td>205.51</td>\n",
       "      <td>202.81</td>\n",
       "      <td>205.22</td>\n",
       "      <td>121670959</td>\n",
       "    </tr>\n",
       "    <tr>\n",
       "      <th>2015-10-23 00:00:00-04:00</th>\n",
       "      <td>109.79</td>\n",
       "      <td>109.79</td>\n",
       "      <td>109.69</td>\n",
       "      <td>109.74</td>\n",
       "      <td>1344632</td>\n",
       "      <td>207.25</td>\n",
       "      <td>207.95</td>\n",
       "      <td>206.30</td>\n",
       "      <td>207.51</td>\n",
       "      <td>103135843</td>\n",
       "    </tr>\n",
       "    <tr>\n",
       "      <th>2015-10-26 00:00:00-04:00</th>\n",
       "      <td>109.85</td>\n",
       "      <td>109.90</td>\n",
       "      <td>109.74</td>\n",
       "      <td>109.79</td>\n",
       "      <td>1385981</td>\n",
       "      <td>207.30</td>\n",
       "      <td>207.37</td>\n",
       "      <td>206.56</td>\n",
       "      <td>206.97</td>\n",
       "      <td>51484043</td>\n",
       "    </tr>\n",
       "    <tr>\n",
       "      <th>2015-10-27 00:00:00-04:00</th>\n",
       "      <td>110.03</td>\n",
       "      <td>110.03</td>\n",
       "      <td>109.88</td>\n",
       "      <td>109.95</td>\n",
       "      <td>1791888</td>\n",
       "      <td>206.20</td>\n",
       "      <td>207.00</td>\n",
       "      <td>205.79</td>\n",
       "      <td>206.58</td>\n",
       "      <td>62899344</td>\n",
       "    </tr>\n",
       "  </tbody>\n",
       "</table>\n",
       "</div>"
      ],
      "text/plain": [
       "                              AGG                                      SPY  \\\n",
       "                             open    high     low   close   volume    open   \n",
       "2015-10-21 00:00:00-04:00  109.73  109.95  109.73  109.89  1119723  203.61   \n",
       "2015-10-22 00:00:00-04:00  109.90  110.05  109.83  109.94  1817244  202.98   \n",
       "2015-10-23 00:00:00-04:00  109.79  109.79  109.69  109.74  1344632  207.25   \n",
       "2015-10-26 00:00:00-04:00  109.85  109.90  109.74  109.79  1385981  207.30   \n",
       "2015-10-27 00:00:00-04:00  110.03  110.03  109.88  109.95  1791888  206.20   \n",
       "\n",
       "                                                              \n",
       "                             high     low   close     volume  \n",
       "2015-10-21 00:00:00-04:00  203.79  201.65  201.82   83704739  \n",
       "2015-10-22 00:00:00-04:00  205.51  202.81  205.22  121670959  \n",
       "2015-10-23 00:00:00-04:00  207.95  206.30  207.51  103135843  \n",
       "2015-10-26 00:00:00-04:00  207.37  206.56  206.97   51484043  \n",
       "2015-10-27 00:00:00-04:00  207.00  205.79  206.58   62899344  "
      ]
     },
     "execution_count": 17,
     "metadata": {},
     "output_type": "execute_result"
    }
   ],
   "source": [
    "# Get 5 years' worth of historical data for SPY and AGG\n",
    "df_stock_data = api.get_barset(\n",
    "    tickers,\n",
    "    timeframe,\n",
    "    start = start_date,\n",
    "    end = end_date\n",
    ").df\n",
    "\n",
    "# Display sample data\n",
    "df_stock_data.head()"
   ]
  },
  {
   "cell_type": "code",
   "execution_count": 18,
   "metadata": {},
   "outputs": [],
   "source": [
    "# Configuring a Monte Carlo simulation to forecast 30 years cumulative returns\n",
    "MC_thirty_year = MCSimulation(\n",
    "    portfolio_data = df_stock_data,\n",
    "    weights = [.40,.60],\n",
    "    num_simulation = 500,\n",
    "    num_trading_days = 252*30\n",
    ")"
   ]
  },
  {
   "cell_type": "code",
   "execution_count": 19,
   "metadata": {},
   "outputs": [
    {
     "data": {
      "text/html": [
       "<div>\n",
       "<style scoped>\n",
       "    .dataframe tbody tr th:only-of-type {\n",
       "        vertical-align: middle;\n",
       "    }\n",
       "\n",
       "    .dataframe tbody tr th {\n",
       "        vertical-align: top;\n",
       "    }\n",
       "\n",
       "    .dataframe thead tr th {\n",
       "        text-align: left;\n",
       "    }\n",
       "</style>\n",
       "<table border=\"1\" class=\"dataframe\">\n",
       "  <thead>\n",
       "    <tr>\n",
       "      <th></th>\n",
       "      <th colspan=\"6\" halign=\"left\">AGG</th>\n",
       "      <th colspan=\"6\" halign=\"left\">SPY</th>\n",
       "    </tr>\n",
       "    <tr>\n",
       "      <th></th>\n",
       "      <th>open</th>\n",
       "      <th>high</th>\n",
       "      <th>low</th>\n",
       "      <th>close</th>\n",
       "      <th>volume</th>\n",
       "      <th>daily_return</th>\n",
       "      <th>open</th>\n",
       "      <th>high</th>\n",
       "      <th>low</th>\n",
       "      <th>close</th>\n",
       "      <th>volume</th>\n",
       "      <th>daily_return</th>\n",
       "    </tr>\n",
       "  </thead>\n",
       "  <tbody>\n",
       "    <tr>\n",
       "      <th>2015-10-21 00:00:00-04:00</th>\n",
       "      <td>109.73</td>\n",
       "      <td>109.95</td>\n",
       "      <td>109.73</td>\n",
       "      <td>109.89</td>\n",
       "      <td>1119723</td>\n",
       "      <td>NaN</td>\n",
       "      <td>203.61</td>\n",
       "      <td>203.79</td>\n",
       "      <td>201.65</td>\n",
       "      <td>201.82</td>\n",
       "      <td>83704739</td>\n",
       "      <td>NaN</td>\n",
       "    </tr>\n",
       "    <tr>\n",
       "      <th>2015-10-22 00:00:00-04:00</th>\n",
       "      <td>109.90</td>\n",
       "      <td>110.05</td>\n",
       "      <td>109.83</td>\n",
       "      <td>109.94</td>\n",
       "      <td>1817244</td>\n",
       "      <td>0.000455</td>\n",
       "      <td>202.98</td>\n",
       "      <td>205.51</td>\n",
       "      <td>202.81</td>\n",
       "      <td>205.22</td>\n",
       "      <td>121670959</td>\n",
       "      <td>0.016847</td>\n",
       "    </tr>\n",
       "    <tr>\n",
       "      <th>2015-10-23 00:00:00-04:00</th>\n",
       "      <td>109.79</td>\n",
       "      <td>109.79</td>\n",
       "      <td>109.69</td>\n",
       "      <td>109.74</td>\n",
       "      <td>1344632</td>\n",
       "      <td>-0.001819</td>\n",
       "      <td>207.25</td>\n",
       "      <td>207.95</td>\n",
       "      <td>206.30</td>\n",
       "      <td>207.51</td>\n",
       "      <td>103135843</td>\n",
       "      <td>0.011159</td>\n",
       "    </tr>\n",
       "    <tr>\n",
       "      <th>2015-10-26 00:00:00-04:00</th>\n",
       "      <td>109.85</td>\n",
       "      <td>109.90</td>\n",
       "      <td>109.74</td>\n",
       "      <td>109.79</td>\n",
       "      <td>1385981</td>\n",
       "      <td>0.000456</td>\n",
       "      <td>207.30</td>\n",
       "      <td>207.37</td>\n",
       "      <td>206.56</td>\n",
       "      <td>206.97</td>\n",
       "      <td>51484043</td>\n",
       "      <td>-0.002602</td>\n",
       "    </tr>\n",
       "    <tr>\n",
       "      <th>2015-10-27 00:00:00-04:00</th>\n",
       "      <td>110.03</td>\n",
       "      <td>110.03</td>\n",
       "      <td>109.88</td>\n",
       "      <td>109.95</td>\n",
       "      <td>1791888</td>\n",
       "      <td>0.001457</td>\n",
       "      <td>206.20</td>\n",
       "      <td>207.00</td>\n",
       "      <td>205.79</td>\n",
       "      <td>206.58</td>\n",
       "      <td>62899344</td>\n",
       "      <td>-0.001884</td>\n",
       "    </tr>\n",
       "  </tbody>\n",
       "</table>\n",
       "</div>"
      ],
      "text/plain": [
       "                              AGG                                   \\\n",
       "                             open    high     low   close   volume   \n",
       "2015-10-21 00:00:00-04:00  109.73  109.95  109.73  109.89  1119723   \n",
       "2015-10-22 00:00:00-04:00  109.90  110.05  109.83  109.94  1817244   \n",
       "2015-10-23 00:00:00-04:00  109.79  109.79  109.69  109.74  1344632   \n",
       "2015-10-26 00:00:00-04:00  109.85  109.90  109.74  109.79  1385981   \n",
       "2015-10-27 00:00:00-04:00  110.03  110.03  109.88  109.95  1791888   \n",
       "\n",
       "                                           SPY                          \\\n",
       "                          daily_return    open    high     low   close   \n",
       "2015-10-21 00:00:00-04:00          NaN  203.61  203.79  201.65  201.82   \n",
       "2015-10-22 00:00:00-04:00     0.000455  202.98  205.51  202.81  205.22   \n",
       "2015-10-23 00:00:00-04:00    -0.001819  207.25  207.95  206.30  207.51   \n",
       "2015-10-26 00:00:00-04:00     0.000456  207.30  207.37  206.56  206.97   \n",
       "2015-10-27 00:00:00-04:00     0.001457  206.20  207.00  205.79  206.58   \n",
       "\n",
       "                                                   \n",
       "                              volume daily_return  \n",
       "2015-10-21 00:00:00-04:00   83704739          NaN  \n",
       "2015-10-22 00:00:00-04:00  121670959     0.016847  \n",
       "2015-10-23 00:00:00-04:00  103135843     0.011159  \n",
       "2015-10-26 00:00:00-04:00   51484043    -0.002602  \n",
       "2015-10-27 00:00:00-04:00   62899344    -0.001884  "
      ]
     },
     "execution_count": 19,
     "metadata": {},
     "output_type": "execute_result"
    }
   ],
   "source": [
    "# Printing the simulation input data\n",
    "MC_thirty_year.portfolio_data.head()"
   ]
  },
  {
   "cell_type": "code",
   "execution_count": 20,
   "metadata": {},
   "outputs": [
    {
     "name": "stdout",
     "output_type": "stream",
     "text": [
      "Running Monte Carlo simulation number 0.\n",
      "Running Monte Carlo simulation number 10.\n",
      "Running Monte Carlo simulation number 20.\n",
      "Running Monte Carlo simulation number 30.\n",
      "Running Monte Carlo simulation number 40.\n",
      "Running Monte Carlo simulation number 50.\n",
      "Running Monte Carlo simulation number 60.\n",
      "Running Monte Carlo simulation number 70.\n",
      "Running Monte Carlo simulation number 80.\n",
      "Running Monte Carlo simulation number 90.\n",
      "Running Monte Carlo simulation number 100.\n",
      "Running Monte Carlo simulation number 110.\n",
      "Running Monte Carlo simulation number 120.\n",
      "Running Monte Carlo simulation number 130.\n",
      "Running Monte Carlo simulation number 140.\n",
      "Running Monte Carlo simulation number 150.\n",
      "Running Monte Carlo simulation number 160.\n",
      "Running Monte Carlo simulation number 170.\n",
      "Running Monte Carlo simulation number 180.\n",
      "Running Monte Carlo simulation number 190.\n",
      "Running Monte Carlo simulation number 200.\n",
      "Running Monte Carlo simulation number 210.\n",
      "Running Monte Carlo simulation number 220.\n",
      "Running Monte Carlo simulation number 230.\n",
      "Running Monte Carlo simulation number 240.\n",
      "Running Monte Carlo simulation number 250.\n",
      "Running Monte Carlo simulation number 260.\n",
      "Running Monte Carlo simulation number 270.\n",
      "Running Monte Carlo simulation number 280.\n",
      "Running Monte Carlo simulation number 290.\n",
      "Running Monte Carlo simulation number 300.\n",
      "Running Monte Carlo simulation number 310.\n",
      "Running Monte Carlo simulation number 320.\n",
      "Running Monte Carlo simulation number 330.\n",
      "Running Monte Carlo simulation number 340.\n",
      "Running Monte Carlo simulation number 350.\n",
      "Running Monte Carlo simulation number 360.\n",
      "Running Monte Carlo simulation number 370.\n",
      "Running Monte Carlo simulation number 380.\n",
      "Running Monte Carlo simulation number 390.\n",
      "Running Monte Carlo simulation number 400.\n",
      "Running Monte Carlo simulation number 410.\n",
      "Running Monte Carlo simulation number 420.\n",
      "Running Monte Carlo simulation number 430.\n",
      "Running Monte Carlo simulation number 440.\n",
      "Running Monte Carlo simulation number 450.\n",
      "Running Monte Carlo simulation number 460.\n",
      "Running Monte Carlo simulation number 470.\n",
      "Running Monte Carlo simulation number 480.\n",
      "Running Monte Carlo simulation number 490.\n"
     ]
    },
    {
     "data": {
      "text/html": [
       "<div>\n",
       "<style scoped>\n",
       "    .dataframe tbody tr th:only-of-type {\n",
       "        vertical-align: middle;\n",
       "    }\n",
       "\n",
       "    .dataframe tbody tr th {\n",
       "        vertical-align: top;\n",
       "    }\n",
       "\n",
       "    .dataframe thead th {\n",
       "        text-align: right;\n",
       "    }\n",
       "</style>\n",
       "<table border=\"1\" class=\"dataframe\">\n",
       "  <thead>\n",
       "    <tr style=\"text-align: right;\">\n",
       "      <th></th>\n",
       "      <th>0</th>\n",
       "      <th>1</th>\n",
       "      <th>2</th>\n",
       "      <th>3</th>\n",
       "      <th>4</th>\n",
       "      <th>5</th>\n",
       "      <th>6</th>\n",
       "      <th>7</th>\n",
       "      <th>8</th>\n",
       "      <th>9</th>\n",
       "      <th>...</th>\n",
       "      <th>490</th>\n",
       "      <th>491</th>\n",
       "      <th>492</th>\n",
       "      <th>493</th>\n",
       "      <th>494</th>\n",
       "      <th>495</th>\n",
       "      <th>496</th>\n",
       "      <th>497</th>\n",
       "      <th>498</th>\n",
       "      <th>499</th>\n",
       "    </tr>\n",
       "  </thead>\n",
       "  <tbody>\n",
       "    <tr>\n",
       "      <th>0</th>\n",
       "      <td>1.000000</td>\n",
       "      <td>1.000000</td>\n",
       "      <td>1.000000</td>\n",
       "      <td>1.000000</td>\n",
       "      <td>1.000000</td>\n",
       "      <td>1.000000</td>\n",
       "      <td>1.000000</td>\n",
       "      <td>1.000000</td>\n",
       "      <td>1.000000</td>\n",
       "      <td>1.000000</td>\n",
       "      <td>...</td>\n",
       "      <td>1.000000</td>\n",
       "      <td>1.000000</td>\n",
       "      <td>1.000000</td>\n",
       "      <td>1.000000</td>\n",
       "      <td>1.000000</td>\n",
       "      <td>1.000000</td>\n",
       "      <td>1.000000</td>\n",
       "      <td>1.000000</td>\n",
       "      <td>1.000000</td>\n",
       "      <td>1.000000</td>\n",
       "    </tr>\n",
       "    <tr>\n",
       "      <th>1</th>\n",
       "      <td>0.991071</td>\n",
       "      <td>1.005072</td>\n",
       "      <td>1.014898</td>\n",
       "      <td>1.004634</td>\n",
       "      <td>1.004794</td>\n",
       "      <td>0.997637</td>\n",
       "      <td>1.008061</td>\n",
       "      <td>1.004035</td>\n",
       "      <td>1.006898</td>\n",
       "      <td>0.991970</td>\n",
       "      <td>...</td>\n",
       "      <td>0.998831</td>\n",
       "      <td>0.990174</td>\n",
       "      <td>0.996348</td>\n",
       "      <td>0.988832</td>\n",
       "      <td>0.999214</td>\n",
       "      <td>1.001006</td>\n",
       "      <td>0.996773</td>\n",
       "      <td>1.012876</td>\n",
       "      <td>0.994925</td>\n",
       "      <td>0.996436</td>\n",
       "    </tr>\n",
       "    <tr>\n",
       "      <th>2</th>\n",
       "      <td>0.986311</td>\n",
       "      <td>0.994118</td>\n",
       "      <td>1.031845</td>\n",
       "      <td>1.007326</td>\n",
       "      <td>1.006377</td>\n",
       "      <td>0.985677</td>\n",
       "      <td>1.022640</td>\n",
       "      <td>1.008017</td>\n",
       "      <td>1.001438</td>\n",
       "      <td>0.995878</td>\n",
       "      <td>...</td>\n",
       "      <td>0.998247</td>\n",
       "      <td>0.993568</td>\n",
       "      <td>0.993154</td>\n",
       "      <td>0.993338</td>\n",
       "      <td>1.003746</td>\n",
       "      <td>1.003224</td>\n",
       "      <td>0.989501</td>\n",
       "      <td>1.020044</td>\n",
       "      <td>0.995093</td>\n",
       "      <td>1.010175</td>\n",
       "    </tr>\n",
       "    <tr>\n",
       "      <th>3</th>\n",
       "      <td>0.994614</td>\n",
       "      <td>1.004694</td>\n",
       "      <td>1.036806</td>\n",
       "      <td>1.007881</td>\n",
       "      <td>1.007624</td>\n",
       "      <td>0.989701</td>\n",
       "      <td>1.012041</td>\n",
       "      <td>1.010940</td>\n",
       "      <td>1.010252</td>\n",
       "      <td>0.999949</td>\n",
       "      <td>...</td>\n",
       "      <td>1.005555</td>\n",
       "      <td>0.995925</td>\n",
       "      <td>0.981554</td>\n",
       "      <td>1.001303</td>\n",
       "      <td>0.998509</td>\n",
       "      <td>1.011135</td>\n",
       "      <td>0.983916</td>\n",
       "      <td>1.020294</td>\n",
       "      <td>0.985955</td>\n",
       "      <td>1.026232</td>\n",
       "    </tr>\n",
       "    <tr>\n",
       "      <th>4</th>\n",
       "      <td>0.984718</td>\n",
       "      <td>1.011315</td>\n",
       "      <td>1.046850</td>\n",
       "      <td>1.012583</td>\n",
       "      <td>1.008128</td>\n",
       "      <td>0.992152</td>\n",
       "      <td>1.004207</td>\n",
       "      <td>1.011684</td>\n",
       "      <td>1.017736</td>\n",
       "      <td>0.996850</td>\n",
       "      <td>...</td>\n",
       "      <td>1.005877</td>\n",
       "      <td>1.003422</td>\n",
       "      <td>0.986428</td>\n",
       "      <td>0.994502</td>\n",
       "      <td>0.996124</td>\n",
       "      <td>1.009252</td>\n",
       "      <td>0.979036</td>\n",
       "      <td>1.030427</td>\n",
       "      <td>0.980562</td>\n",
       "      <td>1.038958</td>\n",
       "    </tr>\n",
       "    <tr>\n",
       "      <th>...</th>\n",
       "      <td>...</td>\n",
       "      <td>...</td>\n",
       "      <td>...</td>\n",
       "      <td>...</td>\n",
       "      <td>...</td>\n",
       "      <td>...</td>\n",
       "      <td>...</td>\n",
       "      <td>...</td>\n",
       "      <td>...</td>\n",
       "      <td>...</td>\n",
       "      <td>...</td>\n",
       "      <td>...</td>\n",
       "      <td>...</td>\n",
       "      <td>...</td>\n",
       "      <td>...</td>\n",
       "      <td>...</td>\n",
       "      <td>...</td>\n",
       "      <td>...</td>\n",
       "      <td>...</td>\n",
       "      <td>...</td>\n",
       "      <td>...</td>\n",
       "    </tr>\n",
       "    <tr>\n",
       "      <th>7556</th>\n",
       "      <td>7.509816</td>\n",
       "      <td>7.544985</td>\n",
       "      <td>9.507046</td>\n",
       "      <td>19.536036</td>\n",
       "      <td>11.472317</td>\n",
       "      <td>14.486174</td>\n",
       "      <td>4.581281</td>\n",
       "      <td>4.388137</td>\n",
       "      <td>14.050528</td>\n",
       "      <td>8.044076</td>\n",
       "      <td>...</td>\n",
       "      <td>10.684405</td>\n",
       "      <td>8.648751</td>\n",
       "      <td>9.448848</td>\n",
       "      <td>3.655797</td>\n",
       "      <td>4.936023</td>\n",
       "      <td>18.621973</td>\n",
       "      <td>4.124304</td>\n",
       "      <td>9.387220</td>\n",
       "      <td>3.980043</td>\n",
       "      <td>14.785469</td>\n",
       "    </tr>\n",
       "    <tr>\n",
       "      <th>7557</th>\n",
       "      <td>7.535557</td>\n",
       "      <td>7.554440</td>\n",
       "      <td>9.416623</td>\n",
       "      <td>19.152060</td>\n",
       "      <td>11.604540</td>\n",
       "      <td>14.330169</td>\n",
       "      <td>4.635949</td>\n",
       "      <td>4.385319</td>\n",
       "      <td>13.773179</td>\n",
       "      <td>8.061356</td>\n",
       "      <td>...</td>\n",
       "      <td>10.599070</td>\n",
       "      <td>8.668854</td>\n",
       "      <td>9.459935</td>\n",
       "      <td>3.641122</td>\n",
       "      <td>4.860499</td>\n",
       "      <td>18.745474</td>\n",
       "      <td>4.132262</td>\n",
       "      <td>9.473374</td>\n",
       "      <td>3.955752</td>\n",
       "      <td>14.839292</td>\n",
       "    </tr>\n",
       "    <tr>\n",
       "      <th>7558</th>\n",
       "      <td>7.619862</td>\n",
       "      <td>7.540083</td>\n",
       "      <td>9.465590</td>\n",
       "      <td>19.093121</td>\n",
       "      <td>11.553650</td>\n",
       "      <td>14.478258</td>\n",
       "      <td>4.598068</td>\n",
       "      <td>4.429762</td>\n",
       "      <td>13.585132</td>\n",
       "      <td>8.014156</td>\n",
       "      <td>...</td>\n",
       "      <td>10.574194</td>\n",
       "      <td>8.779796</td>\n",
       "      <td>9.483142</td>\n",
       "      <td>3.671991</td>\n",
       "      <td>4.833449</td>\n",
       "      <td>18.524109</td>\n",
       "      <td>4.131206</td>\n",
       "      <td>9.479862</td>\n",
       "      <td>3.983105</td>\n",
       "      <td>14.974003</td>\n",
       "    </tr>\n",
       "    <tr>\n",
       "      <th>7559</th>\n",
       "      <td>7.709326</td>\n",
       "      <td>7.479555</td>\n",
       "      <td>9.380970</td>\n",
       "      <td>19.028649</td>\n",
       "      <td>11.567193</td>\n",
       "      <td>14.625168</td>\n",
       "      <td>4.607638</td>\n",
       "      <td>4.493710</td>\n",
       "      <td>13.635125</td>\n",
       "      <td>7.989497</td>\n",
       "      <td>...</td>\n",
       "      <td>10.543765</td>\n",
       "      <td>8.726478</td>\n",
       "      <td>9.402831</td>\n",
       "      <td>3.688203</td>\n",
       "      <td>4.816254</td>\n",
       "      <td>18.596524</td>\n",
       "      <td>4.106620</td>\n",
       "      <td>9.431688</td>\n",
       "      <td>3.989676</td>\n",
       "      <td>14.969370</td>\n",
       "    </tr>\n",
       "    <tr>\n",
       "      <th>7560</th>\n",
       "      <td>7.732749</td>\n",
       "      <td>7.530119</td>\n",
       "      <td>9.397025</td>\n",
       "      <td>19.300614</td>\n",
       "      <td>11.583042</td>\n",
       "      <td>14.514741</td>\n",
       "      <td>4.546373</td>\n",
       "      <td>4.477369</td>\n",
       "      <td>13.739769</td>\n",
       "      <td>7.967003</td>\n",
       "      <td>...</td>\n",
       "      <td>10.435493</td>\n",
       "      <td>8.722848</td>\n",
       "      <td>9.320513</td>\n",
       "      <td>3.722567</td>\n",
       "      <td>4.826221</td>\n",
       "      <td>18.583247</td>\n",
       "      <td>4.089134</td>\n",
       "      <td>9.477395</td>\n",
       "      <td>3.977579</td>\n",
       "      <td>14.926380</td>\n",
       "    </tr>\n",
       "  </tbody>\n",
       "</table>\n",
       "<p>7561 rows × 500 columns</p>\n",
       "</div>"
      ],
      "text/plain": [
       "           0         1         2          3          4          5         6    \\\n",
       "0     1.000000  1.000000  1.000000   1.000000   1.000000   1.000000  1.000000   \n",
       "1     0.991071  1.005072  1.014898   1.004634   1.004794   0.997637  1.008061   \n",
       "2     0.986311  0.994118  1.031845   1.007326   1.006377   0.985677  1.022640   \n",
       "3     0.994614  1.004694  1.036806   1.007881   1.007624   0.989701  1.012041   \n",
       "4     0.984718  1.011315  1.046850   1.012583   1.008128   0.992152  1.004207   \n",
       "...        ...       ...       ...        ...        ...        ...       ...   \n",
       "7556  7.509816  7.544985  9.507046  19.536036  11.472317  14.486174  4.581281   \n",
       "7557  7.535557  7.554440  9.416623  19.152060  11.604540  14.330169  4.635949   \n",
       "7558  7.619862  7.540083  9.465590  19.093121  11.553650  14.478258  4.598068   \n",
       "7559  7.709326  7.479555  9.380970  19.028649  11.567193  14.625168  4.607638   \n",
       "7560  7.732749  7.530119  9.397025  19.300614  11.583042  14.514741  4.546373   \n",
       "\n",
       "           7          8         9    ...        490       491       492  \\\n",
       "0     1.000000   1.000000  1.000000  ...   1.000000  1.000000  1.000000   \n",
       "1     1.004035   1.006898  0.991970  ...   0.998831  0.990174  0.996348   \n",
       "2     1.008017   1.001438  0.995878  ...   0.998247  0.993568  0.993154   \n",
       "3     1.010940   1.010252  0.999949  ...   1.005555  0.995925  0.981554   \n",
       "4     1.011684   1.017736  0.996850  ...   1.005877  1.003422  0.986428   \n",
       "...        ...        ...       ...  ...        ...       ...       ...   \n",
       "7556  4.388137  14.050528  8.044076  ...  10.684405  8.648751  9.448848   \n",
       "7557  4.385319  13.773179  8.061356  ...  10.599070  8.668854  9.459935   \n",
       "7558  4.429762  13.585132  8.014156  ...  10.574194  8.779796  9.483142   \n",
       "7559  4.493710  13.635125  7.989497  ...  10.543765  8.726478  9.402831   \n",
       "7560  4.477369  13.739769  7.967003  ...  10.435493  8.722848  9.320513   \n",
       "\n",
       "           493       494        495       496       497       498        499  \n",
       "0     1.000000  1.000000   1.000000  1.000000  1.000000  1.000000   1.000000  \n",
       "1     0.988832  0.999214   1.001006  0.996773  1.012876  0.994925   0.996436  \n",
       "2     0.993338  1.003746   1.003224  0.989501  1.020044  0.995093   1.010175  \n",
       "3     1.001303  0.998509   1.011135  0.983916  1.020294  0.985955   1.026232  \n",
       "4     0.994502  0.996124   1.009252  0.979036  1.030427  0.980562   1.038958  \n",
       "...        ...       ...        ...       ...       ...       ...        ...  \n",
       "7556  3.655797  4.936023  18.621973  4.124304  9.387220  3.980043  14.785469  \n",
       "7557  3.641122  4.860499  18.745474  4.132262  9.473374  3.955752  14.839292  \n",
       "7558  3.671991  4.833449  18.524109  4.131206  9.479862  3.983105  14.974003  \n",
       "7559  3.688203  4.816254  18.596524  4.106620  9.431688  3.989676  14.969370  \n",
       "7560  3.722567  4.826221  18.583247  4.089134  9.477395  3.977579  14.926380  \n",
       "\n",
       "[7561 rows x 500 columns]"
      ]
     },
     "execution_count": 20,
     "metadata": {},
     "output_type": "execute_result"
    }
   ],
   "source": [
    "# Running a Monte Carlo simulation to forecast 30 years cumulative returns\n",
    "MC_thirty_year.calc_cumulative_return()"
   ]
  },
  {
   "cell_type": "code",
   "execution_count": 21,
   "metadata": {},
   "outputs": [
    {
     "data": {
      "image/png": "[encoded data removed]",
      "text/plain": [
       "<Figure size 432x288 with 1 Axes>"
      ]
     },
     "metadata": {
      "needs_background": "light"
     },
     "output_type": "display_data"
    }
   ],
   "source": [
    "# Plot simulation outcomes\n",
    "line_plot = MC_thirty_year.plot_simulation()"
   ]
  },
  {
   "cell_type": "code",
   "execution_count": 22,
   "metadata": {},
   "outputs": [
    {
     "data": {
      "image/png": "[encoded data removed]",
      "text/plain": [
       "<Figure size 432x288 with 1 Axes>"
      ]
     },
     "metadata": {
      "needs_background": "light"
     },
     "output_type": "display_data"
    }
   ],
   "source": [
    "# Plot probability distribution and confidence intervals\n",
    "dist_plot = MC_thirty_year.plot_distribution()"
   ]
  },
  {
   "cell_type": "markdown",
   "metadata": {},
   "source": [
    "## Retirement Analysis"
   ]
  },
  {
   "cell_type": "code",
   "execution_count": 23,
   "metadata": {},
   "outputs": [
    {
     "name": "stdout",
     "output_type": "stream",
     "text": [
      "count           500.000000\n",
      "mean             11.489296\n",
      "std               7.574982\n",
      "min               2.002780\n",
      "25%               6.352121\n",
      "50%               9.288875\n",
      "75%              14.882975\n",
      "max              52.852932\n",
      "95% CI Lower      3.084758\n",
      "95% CI Upper     31.608223\n",
      "Name: 7560, dtype: float64\n"
     ]
    }
   ],
   "source": [
    "# Fetch summary statistics from the Monte Carlo simulation results\n",
    "tbl = MC_thirty_year.summarize_cumulative_return()\n",
    "\n",
    "# Print summary statistics\n",
    "print(tbl)"
   ]
  },
  {
   "cell_type": "markdown",
   "metadata": {},
   "source": [
    "### Calculating the expected portfolio return at the 95% lower and upper confidence intervals based on a `$20,000` initial investment."
   ]
  },
  {
   "cell_type": "code",
   "execution_count": 24,
   "metadata": {},
   "outputs": [
    {
     "name": "stdout",
     "output_type": "stream",
     "text": [
      "There is a 95% chance that an initial investment of $20000 in the portfolio over the next 30 years will end within in the range of $61695.16 and $632164.45.\n"
     ]
    }
   ],
   "source": [
    "# Set initial investment\n",
    "initial_investment = 20000\n",
    "\n",
    "# Use the lower and upper `95%` confidence intervals to calculate the range of the possible outcomes of our $20,000 initial investment\n",
    "ci_lower = round(tbl[8]*initial_investment,2)\n",
    "ci_upper = round(tbl[9]*initial_investment,2)\n",
    "\n",
    "# Print results\n",
    "print(f\"There is a 95% chance that an initial investment of ${initial_investment} in the portfolio\"\n",
    "      f\" over the next 30 years will end within in the range of\"\n",
    "      f\" ${ci_lower} and ${ci_upper}.\")"
   ]
  },
  {
   "cell_type": "markdown",
   "metadata": {},
   "source": [
    "### Calculating the expected portfolio return at the `95%` lower and upper confidence intervals based on a `50%` increase in the initial investment."
   ]
  },
  {
   "cell_type": "code",
   "execution_count": 25,
   "metadata": {},
   "outputs": [
    {
     "name": "stdout",
     "output_type": "stream",
     "text": [
      "There is a 95% chance that an initial investment of $30000.0 in the portfolio over the next 30 years will end within in the range of $92542.74 and $948246.68.\n"
     ]
    }
   ],
   "source": [
    "# Set initial investment\n",
    "initial_investment = 20000 * 1.5\n",
    "\n",
    "# Use the lower and upper `95%` confidence intervals to calculate the range of the possible outcomes of our $30,000 initial investment\n",
    "ci_lower = round(tbl[8]*initial_investment,2)\n",
    "ci_upper = round(tbl[9]*initial_investment,2)\n",
    "\n",
    "# Print results\n",
    "print(f\"There is a 95% chance that an initial investment of ${initial_investment} in the portfolio\"\n",
    "      f\" over the next 30 years will end within in the range of\"\n",
    "      f\" ${ci_lower} and ${ci_upper}.\")"
   ]
  }
 ],
 "metadata": {
  "kernelspec": {
   "display_name": "Python [conda env:alpacaenv]",
   "language": "python",
   "name": "conda-env-alpacaenv-py"
  },
  "language_info": {
   "codemirror_mode": {
    "name": "ipython",
    "version": 3
   },
   "file_extension": ".py",
   "mimetype": "text/x-python",
   "name": "python",
   "nbconvert_exporter": "python",
   "pygments_lexer": "ipython3",
   "version": "3.7.7"
  }
 },
 "nbformat": 4,
 "nbformat_minor": 4
}
